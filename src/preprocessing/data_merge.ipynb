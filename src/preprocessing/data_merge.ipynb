{
 "cells": [
  {
   "cell_type": "markdown",
   "id": "d04ef41f",
   "metadata": {},
   "source": [
    "# Data Load"
   ]
  },
  {
   "cell_type": "code",
   "execution_count": 1,
   "id": "b3e90710",
   "metadata": {},
   "outputs": [],
   "source": [
    "import os\n",
    "import config\n",
    "import json\n",
    "import pandas as pd\n",
    "from tqdm import tqdm"
   ]
  },
  {
   "cell_type": "code",
   "execution_count": 2,
   "id": "ae31cf48",
   "metadata": {},
   "outputs": [],
   "source": [
    "pwd = \"/Users/seonghwanpark/Google Drive/내 드라이브/Hackathon/data/\""
   ]
  },
  {
   "cell_type": "markdown",
   "id": "97c9210f",
   "metadata": {},
   "source": [
    "# Train"
   ]
  },
  {
   "cell_type": "code",
   "execution_count": 3,
   "id": "421993e5",
   "metadata": {},
   "outputs": [
    {
     "name": "stderr",
     "output_type": "stream",
     "text": [
      "100%|█████████████████████████████████████████████| 3/3 [01:39<00:00, 33.02s/it]\n"
     ]
    }
   ],
   "source": [
    "# session_2/train, session_3/train, session_4/train\n",
    "df_list = []\n",
    "\n",
    "for i in tqdm(range(3)):\n",
    "    path = pwd + \"session_\" + str(i+2) + \"/train/\"\n",
    "    entries = os.listdir(path)\n",
    "\n",
    "    for k, entry in enumerate(entries):\n",
    "        with open(path+str(entry)) as f:\n",
    "            globals()['js_{}{}'.format(i+2, k+1)] = json.loads(f.read())\n",
    "            globals()['df_{}{}'.format(i+2, k+1)] = pd.DataFrame(globals()['js_{}{}'.format(i+2, k+1)]['sessionInfo'][0]['dialog'])\n",
    "            df_list.append(globals()['df_{}{}'.format(i+2, k+1)])"
   ]
  },
  {
   "cell_type": "code",
   "execution_count": 4,
   "id": "962fec46",
   "metadata": {},
   "outputs": [
    {
     "name": "stdout",
     "output_type": "stream",
     "text": [
      "['df_21', 'df_46020']\n"
     ]
    }
   ],
   "source": [
    "# 확인용\n",
    "df_list_check = []\n",
    "\n",
    "for i in range(3):\n",
    "    path = pwd + \"session_\" + str(i+2) + \"/train/\"\n",
    "    entries = os.listdir(path)\n",
    "    for k in range(len(entries)):\n",
    "        df_list_check.append(f'df_{i+2}{k+1}')\n",
    "\n",
    "print(df_list_check[::len(df_list_check)-1])"
   ]
  },
  {
   "cell_type": "code",
   "execution_count": 5,
   "id": "a1449fc3",
   "metadata": {},
   "outputs": [
    {
     "data": {
      "text/plain": [
       "6020"
      ]
     },
     "execution_count": 5,
     "metadata": {},
     "output_type": "execute_result"
    }
   ],
   "source": [
    "path = pwd + \"session_4/train/\"\n",
    "len(os.listdir(path))"
   ]
  },
  {
   "cell_type": "code",
   "execution_count": 6,
   "id": "db5b2fc3",
   "metadata": {},
   "outputs": [],
   "source": [
    "df_train = pd.concat(df_list)"
   ]
  },
  {
   "cell_type": "code",
   "execution_count": 7,
   "id": "a96ef1cf",
   "metadata": {},
   "outputs": [
    {
     "data": {
      "text/html": [
       "<div>\n",
       "<style scoped>\n",
       "    .dataframe tbody tr th:only-of-type {\n",
       "        vertical-align: middle;\n",
       "    }\n",
       "\n",
       "    .dataframe tbody tr th {\n",
       "        vertical-align: top;\n",
       "    }\n",
       "\n",
       "    .dataframe thead th {\n",
       "        text-align: right;\n",
       "    }\n",
       "</style>\n",
       "<table border=\"1\" class=\"dataframe\">\n",
       "  <thead>\n",
       "    <tr style=\"text-align: right;\">\n",
       "      <th></th>\n",
       "      <th>speaker</th>\n",
       "      <th>personaID</th>\n",
       "      <th>utterance</th>\n",
       "      <th>summary</th>\n",
       "      <th>terminate</th>\n",
       "    </tr>\n",
       "  </thead>\n",
       "  <tbody>\n",
       "    <tr>\n",
       "      <th>0</th>\n",
       "      <td>speaker1</td>\n",
       "      <td>21837</td>\n",
       "      <td>처음뵙겠습니다. 저는 20대 여성입니다</td>\n",
       "      <td>나는 20대 여성이다.</td>\n",
       "      <td>false</td>\n",
       "    </tr>\n",
       "    <tr>\n",
       "      <th>1</th>\n",
       "      <td>speaker2</td>\n",
       "      <td>30852</td>\n",
       "      <td>반갑습니다. 저는 30대 남자입니다.</td>\n",
       "      <td>나는 30대 남자이다</td>\n",
       "      <td>false</td>\n",
       "    </tr>\n",
       "    <tr>\n",
       "      <th>2</th>\n",
       "      <td>speaker1</td>\n",
       "      <td>21837</td>\n",
       "      <td>저는 통역가입니다. 하시는일이 있으신가요?</td>\n",
       "      <td>나는 통역가이다.</td>\n",
       "      <td>false</td>\n",
       "    </tr>\n",
       "    <tr>\n",
       "      <th>3</th>\n",
       "      <td>speaker2</td>\n",
       "      <td>30852</td>\n",
       "      <td>저는 개발자로 일하고 있습니다.</td>\n",
       "      <td>나는 개발자이다</td>\n",
       "      <td>false</td>\n",
       "    </tr>\n",
       "    <tr>\n",
       "      <th>4</th>\n",
       "      <td>speaker1</td>\n",
       "      <td>21837</td>\n",
       "      <td>그러시군요. 하시는일은 만족하시나요?</td>\n",
       "      <td></td>\n",
       "      <td>false</td>\n",
       "    </tr>\n",
       "  </tbody>\n",
       "</table>\n",
       "</div>"
      ],
      "text/plain": [
       "    speaker personaID                utterance       summary terminate\n",
       "0  speaker1     21837    처음뵙겠습니다. 저는 20대 여성입니다  나는 20대 여성이다.     false\n",
       "1  speaker2     30852     반갑습니다. 저는 30대 남자입니다.   나는 30대 남자이다     false\n",
       "2  speaker1     21837  저는 통역가입니다. 하시는일이 있으신가요?     나는 통역가이다.     false\n",
       "3  speaker2     30852        저는 개발자로 일하고 있습니다.      나는 개발자이다     false\n",
       "4  speaker1     21837     그러시군요. 하시는일은 만족하시나요?                   false"
      ]
     },
     "execution_count": 7,
     "metadata": {},
     "output_type": "execute_result"
    }
   ],
   "source": [
    "df_train.head()"
   ]
  },
  {
   "cell_type": "code",
   "execution_count": 8,
   "id": "d5037416",
   "metadata": {},
   "outputs": [
    {
     "data": {
      "text/html": [
       "<div>\n",
       "<style scoped>\n",
       "    .dataframe tbody tr th:only-of-type {\n",
       "        vertical-align: middle;\n",
       "    }\n",
       "\n",
       "    .dataframe tbody tr th {\n",
       "        vertical-align: top;\n",
       "    }\n",
       "\n",
       "    .dataframe thead th {\n",
       "        text-align: right;\n",
       "    }\n",
       "</style>\n",
       "<table border=\"1\" class=\"dataframe\">\n",
       "  <thead>\n",
       "    <tr style=\"text-align: right;\">\n",
       "      <th></th>\n",
       "      <th>speaker</th>\n",
       "      <th>personaID</th>\n",
       "      <th>utterance</th>\n",
       "      <th>summary</th>\n",
       "      <th>terminate</th>\n",
       "    </tr>\n",
       "  </thead>\n",
       "  <tbody>\n",
       "    <tr>\n",
       "      <th>10</th>\n",
       "      <td>speaker2</td>\n",
       "      <td>22459</td>\n",
       "      <td>아 김밥은 싫어하시나봐요!. 저는 양식이나 파스타를 좋아합니다. 혹시 즐겨하시는 취...</td>\n",
       "      <td>나는 양식이나 파스타를 좋아하고 SF영화를 싫어한다</td>\n",
       "      <td>false</td>\n",
       "    </tr>\n",
       "    <tr>\n",
       "      <th>11</th>\n",
       "      <td>speaker1</td>\n",
       "      <td>11296</td>\n",
       "      <td>저는 공포영화 싫어해요! 어렸을적 공포영화본 후로 가끔씩 두려워질때가 있거든요..!</td>\n",
       "      <td>나는 공포 영화를 싫어한다. 나는 가끔 두렵다.</td>\n",
       "      <td>false</td>\n",
       "    </tr>\n",
       "    <tr>\n",
       "      <th>12</th>\n",
       "      <td>speaker2</td>\n",
       "      <td>22459</td>\n",
       "      <td>어렸을 때 공포 영화 몰래 봤다가 무서워서 계속 못보는 분들이 많이 있더라구요. 저...</td>\n",
       "      <td>나는 공포영화를 잘 못본다</td>\n",
       "      <td>false</td>\n",
       "    </tr>\n",
       "    <tr>\n",
       "      <th>13</th>\n",
       "      <td>speaker1</td>\n",
       "      <td>11296</td>\n",
       "      <td>맞아요 살짝 어린시절에 트라우마가 많이 생기듯 저도 공포영화 트라우마가 생겼습니다..~</td>\n",
       "      <td>나는 공포 영화에 대한 트라우마가 생겼다.</td>\n",
       "      <td>false</td>\n",
       "    </tr>\n",
       "    <tr>\n",
       "      <th>14</th>\n",
       "      <td>speaker2</td>\n",
       "      <td>22459</td>\n",
       "      <td>저랑 비슷한 경험을 하셨네요!.. 아 오늘 즐거운 대화 였습니다. 저는 일이 있어서...</td>\n",
       "      <td></td>\n",
       "      <td>true</td>\n",
       "    </tr>\n",
       "  </tbody>\n",
       "</table>\n",
       "</div>"
      ],
      "text/plain": [
       "     speaker personaID                                          utterance  \\\n",
       "10  speaker2     22459  아 김밥은 싫어하시나봐요!. 저는 양식이나 파스타를 좋아합니다. 혹시 즐겨하시는 취...   \n",
       "11  speaker1     11296     저는 공포영화 싫어해요! 어렸을적 공포영화본 후로 가끔씩 두려워질때가 있거든요..!   \n",
       "12  speaker2     22459  어렸을 때 공포 영화 몰래 봤다가 무서워서 계속 못보는 분들이 많이 있더라구요. 저...   \n",
       "13  speaker1     11296   맞아요 살짝 어린시절에 트라우마가 많이 생기듯 저도 공포영화 트라우마가 생겼습니다..~   \n",
       "14  speaker2     22459  저랑 비슷한 경험을 하셨네요!.. 아 오늘 즐거운 대화 였습니다. 저는 일이 있어서...   \n",
       "\n",
       "                         summary terminate  \n",
       "10  나는 양식이나 파스타를 좋아하고 SF영화를 싫어한다     false  \n",
       "11    나는 공포 영화를 싫어한다. 나는 가끔 두렵다.     false  \n",
       "12                나는 공포영화를 잘 못본다     false  \n",
       "13       나는 공포 영화에 대한 트라우마가 생겼다.     false  \n",
       "14                                    true  "
      ]
     },
     "execution_count": 8,
     "metadata": {},
     "output_type": "execute_result"
    }
   ],
   "source": [
    "df_train.tail()"
   ]
  },
  {
   "cell_type": "code",
   "execution_count": 9,
   "id": "c089feb8",
   "metadata": {},
   "outputs": [
    {
     "data": {
      "text/plain": [
       "(342390, 5)"
      ]
     },
     "execution_count": 9,
     "metadata": {},
     "output_type": "execute_result"
    }
   ],
   "source": [
    "df_train.shape"
   ]
  },
  {
   "cell_type": "code",
   "execution_count": 10,
   "id": "707ef78c",
   "metadata": {},
   "outputs": [
    {
     "name": "stdout",
     "output_type": "stream",
     "text": [
      "<class 'pandas.core.frame.DataFrame'>\n",
      "Int64Index: 342390 entries, 0 to 14\n",
      "Data columns (total 5 columns):\n",
      " #   Column     Non-Null Count   Dtype \n",
      "---  ------     --------------   ----- \n",
      " 0   speaker    342390 non-null  object\n",
      " 1   personaID  342390 non-null  object\n",
      " 2   utterance  342390 non-null  object\n",
      " 3   summary    342390 non-null  object\n",
      " 4   terminate  342390 non-null  object\n",
      "dtypes: object(5)\n",
      "memory usage: 15.7+ MB\n"
     ]
    }
   ],
   "source": [
    "df_train.info()"
   ]
  },
  {
   "cell_type": "markdown",
   "id": "9e2523d8",
   "metadata": {},
   "source": [
    "# Validation"
   ]
  },
  {
   "cell_type": "code",
   "execution_count": 11,
   "id": "cef3a2db",
   "metadata": {},
   "outputs": [],
   "source": [
    "import config"
   ]
  },
  {
   "cell_type": "code",
   "execution_count": 12,
   "id": "71c95e1e",
   "metadata": {},
   "outputs": [
    {
     "name": "stderr",
     "output_type": "stream",
     "text": [
      "100%|█████████████████████████████████████████████| 3/3 [00:02<00:00,  1.08it/s]\n"
     ]
    }
   ],
   "source": [
    "# session_2/validation/format_train, session_3/validation/format_train, session_4/validation/format_train\n",
    "df_list_val = []\n",
    "\n",
    "for i in tqdm(range(3)):\n",
    "    path = pwd + \"session_\" + str(i+2) + \"/validation/format_train/\"\n",
    "    entries = os.listdir(path)\n",
    "    for k, entry in enumerate(entries):\n",
    "        with open(path+str(entry)) as f:\n",
    "            globals()['js_val_{}{}'.format(i+2, k+1)] = json.loads(f.read())\n",
    "            globals()['df_val_{}{}'.format(i+2, k+1)] = pd.DataFrame(globals()['js_val_{}{}'.format(i+2, k+1)]['sessionInfo'][0]['dialog'])\n",
    "            df_list_val.append(globals()['df_val_{}{}'.format(i+2, k+1)])"
   ]
  },
  {
   "cell_type": "code",
   "execution_count": 13,
   "id": "fa047b66",
   "metadata": {},
   "outputs": [
    {
     "name": "stdout",
     "output_type": "stream",
     "text": [
      "['df_val_21', 'df_val_4250']\n"
     ]
    }
   ],
   "source": [
    "# 확인용\n",
    "df_list_check = []\n",
    "\n",
    "for i in range(3):\n",
    "    path = pwd + \"session_\" + str(i+2) + \"/validation/format_train/\"\n",
    "    entries = os.listdir(path)\n",
    "    for k in range(len(entries)):\n",
    "        df_list_check.append(f'df_val_{i+2}{k+1}')\n",
    "\n",
    "print(df_list_check[::len(df_list_check)-1])"
   ]
  },
  {
   "cell_type": "code",
   "execution_count": 14,
   "id": "c183d366",
   "metadata": {},
   "outputs": [
    {
     "name": "stdout",
     "output_type": "stream",
     "text": [
      "200\n",
      "250\n",
      "250\n"
     ]
    }
   ],
   "source": [
    "for i in range(3):\n",
    "    path = pwd + f\"session_{i+2}/validation/format_train/\"\n",
    "    print(len(os.listdir(path)))"
   ]
  },
  {
   "cell_type": "code",
   "execution_count": 15,
   "id": "03bda03b",
   "metadata": {},
   "outputs": [],
   "source": [
    "df_val = pd.concat(df_list_val)"
   ]
  },
  {
   "cell_type": "code",
   "execution_count": 16,
   "id": "d314bd79",
   "metadata": {},
   "outputs": [
    {
     "data": {
      "text/html": [
       "<div>\n",
       "<style scoped>\n",
       "    .dataframe tbody tr th:only-of-type {\n",
       "        vertical-align: middle;\n",
       "    }\n",
       "\n",
       "    .dataframe tbody tr th {\n",
       "        vertical-align: top;\n",
       "    }\n",
       "\n",
       "    .dataframe thead th {\n",
       "        text-align: right;\n",
       "    }\n",
       "</style>\n",
       "<table border=\"1\" class=\"dataframe\">\n",
       "  <thead>\n",
       "    <tr style=\"text-align: right;\">\n",
       "      <th></th>\n",
       "      <th>speaker</th>\n",
       "      <th>personaID</th>\n",
       "      <th>utterance</th>\n",
       "      <th>summary</th>\n",
       "      <th>terminate</th>\n",
       "    </tr>\n",
       "  </thead>\n",
       "  <tbody>\n",
       "    <tr>\n",
       "      <th>0</th>\n",
       "      <td>speaker1</td>\n",
       "      <td>50219</td>\n",
       "      <td>안녕하세요. 저는 50대 남성입니다.</td>\n",
       "      <td>나는 50대 남성이다</td>\n",
       "      <td>false</td>\n",
       "    </tr>\n",
       "    <tr>\n",
       "      <th>1</th>\n",
       "      <td>speaker2</td>\n",
       "      <td>26117</td>\n",
       "      <td>안녕하세요. 저는 20대 여성입니다.</td>\n",
       "      <td>나는 20대 여성이다.</td>\n",
       "      <td>false</td>\n",
       "    </tr>\n",
       "    <tr>\n",
       "      <th>2</th>\n",
       "      <td>speaker1</td>\n",
       "      <td>50219</td>\n",
       "      <td>저는 벤처기업 이사인데, 어떤 일을 하세요?</td>\n",
       "      <td>나는 벤처기업 이사다</td>\n",
       "      <td>false</td>\n",
       "    </tr>\n",
       "    <tr>\n",
       "      <th>3</th>\n",
       "      <td>speaker2</td>\n",
       "      <td>26117</td>\n",
       "      <td>저는 대학생 입니다. 행정학 전공하고 있어요.</td>\n",
       "      <td>나는 행정학을 전공하는 대학생이다.</td>\n",
       "      <td>false</td>\n",
       "    </tr>\n",
       "    <tr>\n",
       "      <th>4</th>\n",
       "      <td>speaker1</td>\n",
       "      <td>50219</td>\n",
       "      <td>그렇군요. 문과 나오셨으면 전공 결정하기가 쉽지 않았을 것 같은데 어떠셨어요</td>\n",
       "      <td></td>\n",
       "      <td>false</td>\n",
       "    </tr>\n",
       "  </tbody>\n",
       "</table>\n",
       "</div>"
      ],
      "text/plain": [
       "    speaker personaID                                   utterance  \\\n",
       "0  speaker1     50219                        안녕하세요. 저는 50대 남성입니다.   \n",
       "1  speaker2     26117                        안녕하세요. 저는 20대 여성입니다.   \n",
       "2  speaker1     50219                    저는 벤처기업 이사인데, 어떤 일을 하세요?   \n",
       "3  speaker2     26117                   저는 대학생 입니다. 행정학 전공하고 있어요.   \n",
       "4  speaker1     50219  그렇군요. 문과 나오셨으면 전공 결정하기가 쉽지 않았을 것 같은데 어떠셨어요   \n",
       "\n",
       "               summary terminate  \n",
       "0          나는 50대 남성이다     false  \n",
       "1         나는 20대 여성이다.     false  \n",
       "2          나는 벤처기업 이사다     false  \n",
       "3  나는 행정학을 전공하는 대학생이다.     false  \n",
       "4                          false  "
      ]
     },
     "execution_count": 16,
     "metadata": {},
     "output_type": "execute_result"
    }
   ],
   "source": [
    "df_val.head()"
   ]
  },
  {
   "cell_type": "code",
   "execution_count": 17,
   "id": "a53d0803",
   "metadata": {},
   "outputs": [
    {
     "data": {
      "text/html": [
       "<div>\n",
       "<style scoped>\n",
       "    .dataframe tbody tr th:only-of-type {\n",
       "        vertical-align: middle;\n",
       "    }\n",
       "\n",
       "    .dataframe tbody tr th {\n",
       "        vertical-align: top;\n",
       "    }\n",
       "\n",
       "    .dataframe thead th {\n",
       "        text-align: right;\n",
       "    }\n",
       "</style>\n",
       "<table border=\"1\" class=\"dataframe\">\n",
       "  <thead>\n",
       "    <tr style=\"text-align: right;\">\n",
       "      <th></th>\n",
       "      <th>speaker</th>\n",
       "      <th>personaID</th>\n",
       "      <th>utterance</th>\n",
       "      <th>summary</th>\n",
       "      <th>terminate</th>\n",
       "    </tr>\n",
       "  </thead>\n",
       "  <tbody>\n",
       "    <tr>\n",
       "      <th>9</th>\n",
       "      <td>speaker2</td>\n",
       "      <td>32122</td>\n",
       "      <td>요즘 계절엔 발라드도 좋은것 같아요~! 날씨가 많이 추워졌죠?</td>\n",
       "      <td>나는 요즘 계절엔 발라드가 좋다</td>\n",
       "      <td>false</td>\n",
       "    </tr>\n",
       "    <tr>\n",
       "      <th>10</th>\n",
       "      <td>speaker1</td>\n",
       "      <td>51449</td>\n",
       "      <td>일교차가 심해서 감기 조심해야겠어요~싫어하는 음식 있으세요? 저는 싱거운 음식을 싫...</td>\n",
       "      <td>나는 싱거운 음식을 싫어한다.</td>\n",
       "      <td>false</td>\n",
       "    </tr>\n",
       "    <tr>\n",
       "      <th>11</th>\n",
       "      <td>speaker2</td>\n",
       "      <td>32122</td>\n",
       "      <td>저는 미역줄기를 싫어해요.. 비린내가 많이 나더라구요 저한테는,..</td>\n",
       "      <td>나는 미역줄기가 비린내가 나서 싫다</td>\n",
       "      <td>false</td>\n",
       "    </tr>\n",
       "    <tr>\n",
       "      <th>12</th>\n",
       "      <td>speaker1</td>\n",
       "      <td>51449</td>\n",
       "      <td>저는 미역줄기를 좋아하는데 제 딸도 싫어하더라구요~</td>\n",
       "      <td>나는 딸이 있다.</td>\n",
       "      <td>false</td>\n",
       "    </tr>\n",
       "    <tr>\n",
       "      <th>13</th>\n",
       "      <td>speaker2</td>\n",
       "      <td>32122</td>\n",
       "      <td>개인마다 입맛이 달라서 그런가봐요~! 야식 배달이와서 이만 나가봐야 할 것 같아요~!</td>\n",
       "      <td>나는 야식 배달이 왔다</td>\n",
       "      <td>true</td>\n",
       "    </tr>\n",
       "  </tbody>\n",
       "</table>\n",
       "</div>"
      ],
      "text/plain": [
       "     speaker personaID                                          utterance  \\\n",
       "9   speaker2     32122                 요즘 계절엔 발라드도 좋은것 같아요~! 날씨가 많이 추워졌죠?   \n",
       "10  speaker1     51449  일교차가 심해서 감기 조심해야겠어요~싫어하는 음식 있으세요? 저는 싱거운 음식을 싫...   \n",
       "11  speaker2     32122              저는 미역줄기를 싫어해요.. 비린내가 많이 나더라구요 저한테는,..   \n",
       "12  speaker1     51449                       저는 미역줄기를 좋아하는데 제 딸도 싫어하더라구요~   \n",
       "13  speaker2     32122    개인마다 입맛이 달라서 그런가봐요~! 야식 배달이와서 이만 나가봐야 할 것 같아요~!   \n",
       "\n",
       "                 summary terminate  \n",
       "9     나는 요즘 계절엔 발라드가 좋다      false  \n",
       "10      나는 싱거운 음식을 싫어한다.     false  \n",
       "11  나는 미역줄기가 비린내가 나서 싫다      false  \n",
       "12             나는 딸이 있다.     false  \n",
       "13         나는 야식 배달이 왔다       true  "
      ]
     },
     "execution_count": 17,
     "metadata": {},
     "output_type": "execute_result"
    }
   ],
   "source": [
    "df_val.tail()"
   ]
  },
  {
   "cell_type": "code",
   "execution_count": 18,
   "id": "72368e4e",
   "metadata": {},
   "outputs": [
    {
     "data": {
      "text/plain": [
       "(10942, 5)"
      ]
     },
     "execution_count": 18,
     "metadata": {},
     "output_type": "execute_result"
    }
   ],
   "source": [
    "df_val.shape"
   ]
  },
  {
   "cell_type": "code",
   "execution_count": 19,
   "id": "fbf71223",
   "metadata": {},
   "outputs": [
    {
     "name": "stdout",
     "output_type": "stream",
     "text": [
      "<class 'pandas.core.frame.DataFrame'>\n",
      "Int64Index: 10942 entries, 0 to 13\n",
      "Data columns (total 5 columns):\n",
      " #   Column     Non-Null Count  Dtype \n",
      "---  ------     --------------  ----- \n",
      " 0   speaker    10942 non-null  object\n",
      " 1   personaID  10942 non-null  object\n",
      " 2   utterance  10942 non-null  object\n",
      " 3   summary    10942 non-null  object\n",
      " 4   terminate  10942 non-null  object\n",
      "dtypes: object(5)\n",
      "memory usage: 512.9+ KB\n"
     ]
    }
   ],
   "source": [
    "df_val.info()"
   ]
  },
  {
   "cell_type": "markdown",
   "id": "285bc01b",
   "metadata": {},
   "source": [
    "# Test"
   ]
  },
  {
   "cell_type": "code",
   "execution_count": 20,
   "id": "9726c949",
   "metadata": {},
   "outputs": [
    {
     "name": "stderr",
     "output_type": "stream",
     "text": [
      "100%|█████████████████████████████████████████████| 3/3 [00:01<00:00,  2.95it/s]\n"
     ]
    }
   ],
   "source": [
    "# session_2/validation/format_train, session_3/validation/format_train, session_4/validation/format_train\n",
    "df_list_test = []\n",
    "\n",
    "for i in tqdm(range(3)):\n",
    "    path = pwd + \"session_\" + str(i+2) + \"/validation/format_test/\"\n",
    "    entries = os.listdir(path)\n",
    "    for k, entry in enumerate(entries):\n",
    "        with open(path+str(entry)) as f:\n",
    "            globals()['js_test_{}{}'.format(i+2, k+1)] = json.loads(f.read())\n",
    "            globals()['df_test_{}{}'.format(i+2, k+1)] = pd.DataFrame(globals()['js_test_{}{}'.format(i+2, k+1)]['sessionInfo'][0]['dialog'])\n",
    "            df_list_test.append(globals()['df_test_{}{}'.format(i+2, k+1)])"
   ]
  },
  {
   "cell_type": "code",
   "execution_count": 21,
   "id": "d41ed9f6",
   "metadata": {},
   "outputs": [
    {
     "name": "stdout",
     "output_type": "stream",
     "text": [
      "['df_test_21', 'df_test_4250']\n"
     ]
    }
   ],
   "source": [
    "# 확인용\n",
    "df_list_check = []\n",
    "\n",
    "for i in range(3):\n",
    "    path = pwd + \"session_\" + str(i+2) + \"/validation/format_test/\"\n",
    "    entries = os.listdir(path)\n",
    "    for k in range(len(entries)):\n",
    "        df_list_check.append(f'df_test_{i+2}{k+1}')\n",
    "\n",
    "print(df_list_check[::len(df_list_check)-1])"
   ]
  },
  {
   "cell_type": "code",
   "execution_count": 22,
   "id": "a26b919f",
   "metadata": {},
   "outputs": [
    {
     "name": "stdout",
     "output_type": "stream",
     "text": [
      "200\n",
      "250\n",
      "250\n"
     ]
    }
   ],
   "source": [
    "for i in range(3):\n",
    "    path = pwd + f\"session_{i+2}/validation/format_test/\"\n",
    "    print(len(os.listdir(path)))"
   ]
  },
  {
   "cell_type": "code",
   "execution_count": 23,
   "id": "081674e2",
   "metadata": {},
   "outputs": [],
   "source": [
    "df_test = pd.concat(df_list_test)"
   ]
  },
  {
   "cell_type": "code",
   "execution_count": 24,
   "id": "e9b97d18",
   "metadata": {},
   "outputs": [
    {
     "data": {
      "text/html": [
       "<div>\n",
       "<style scoped>\n",
       "    .dataframe tbody tr th:only-of-type {\n",
       "        vertical-align: middle;\n",
       "    }\n",
       "\n",
       "    .dataframe tbody tr th {\n",
       "        vertical-align: top;\n",
       "    }\n",
       "\n",
       "    .dataframe thead th {\n",
       "        text-align: right;\n",
       "    }\n",
       "</style>\n",
       "<table border=\"1\" class=\"dataframe\">\n",
       "  <thead>\n",
       "    <tr style=\"text-align: right;\">\n",
       "      <th></th>\n",
       "      <th>speaker</th>\n",
       "      <th>personaID</th>\n",
       "      <th>utterance</th>\n",
       "      <th>summary</th>\n",
       "      <th>terminate</th>\n",
       "    </tr>\n",
       "  </thead>\n",
       "  <tbody>\n",
       "    <tr>\n",
       "      <th>0</th>\n",
       "      <td>speaker1</td>\n",
       "      <td>50219</td>\n",
       "      <td>32시간이 흘렀네요. 시간이 쏜살같네요.</td>\n",
       "      <td></td>\n",
       "      <td>false</td>\n",
       "    </tr>\n",
       "    <tr>\n",
       "      <th>1</th>\n",
       "      <td>speaker2</td>\n",
       "      <td>26117</td>\n",
       "      <td>그러게요. ..  빨리 흘러가네요...</td>\n",
       "      <td></td>\n",
       "      <td>false</td>\n",
       "    </tr>\n",
       "    <tr>\n",
       "      <th>2</th>\n",
       "      <td>speaker1</td>\n",
       "      <td>50219</td>\n",
       "      <td>20대시면 주변에 결혼해서 아기 낳은 친구도 있으신가요?</td>\n",
       "      <td></td>\n",
       "      <td>false</td>\n",
       "    </tr>\n",
       "    <tr>\n",
       "      <th>3</th>\n",
       "      <td>speaker2</td>\n",
       "      <td>26117</td>\n",
       "      <td>아직 대학생이라서 없어요. 결혼은 아직 먼 이야기 인거 같아요</td>\n",
       "      <td>나는 대학생이다. 나는 결혼은 아직 먼 이야기라 생각한다.</td>\n",
       "      <td>false</td>\n",
       "    </tr>\n",
       "    <tr>\n",
       "      <th>4</th>\n",
       "      <td>speaker1</td>\n",
       "      <td>50219</td>\n",
       "      <td>요즘 젊은이들은 딩크에 대해 어떻게 생각하세요?</td>\n",
       "      <td>나는 요즘 젊은이들이 딩크에 어떻게 생각하는지 궁금하다</td>\n",
       "      <td>false</td>\n",
       "    </tr>\n",
       "  </tbody>\n",
       "</table>\n",
       "</div>"
      ],
      "text/plain": [
       "    speaker personaID                           utterance  \\\n",
       "0  speaker1     50219              32시간이 흘렀네요. 시간이 쏜살같네요.   \n",
       "1  speaker2     26117               그러게요. ..  빨리 흘러가네요...   \n",
       "2  speaker1     50219     20대시면 주변에 결혼해서 아기 낳은 친구도 있으신가요?   \n",
       "3  speaker2     26117  아직 대학생이라서 없어요. 결혼은 아직 먼 이야기 인거 같아요   \n",
       "4  speaker1     50219          요즘 젊은이들은 딩크에 대해 어떻게 생각하세요?   \n",
       "\n",
       "                            summary terminate  \n",
       "0                                       false  \n",
       "1                                       false  \n",
       "2                                       false  \n",
       "3  나는 대학생이다. 나는 결혼은 아직 먼 이야기라 생각한다.     false  \n",
       "4    나는 요즘 젊은이들이 딩크에 어떻게 생각하는지 궁금하다     false  "
      ]
     },
     "execution_count": 24,
     "metadata": {},
     "output_type": "execute_result"
    }
   ],
   "source": [
    "df_test.head()"
   ]
  },
  {
   "cell_type": "code",
   "execution_count": 25,
   "id": "27a3c729",
   "metadata": {},
   "outputs": [
    {
     "data": {
      "text/html": [
       "<div>\n",
       "<style scoped>\n",
       "    .dataframe tbody tr th:only-of-type {\n",
       "        vertical-align: middle;\n",
       "    }\n",
       "\n",
       "    .dataframe tbody tr th {\n",
       "        vertical-align: top;\n",
       "    }\n",
       "\n",
       "    .dataframe thead th {\n",
       "        text-align: right;\n",
       "    }\n",
       "</style>\n",
       "<table border=\"1\" class=\"dataframe\">\n",
       "  <thead>\n",
       "    <tr style=\"text-align: right;\">\n",
       "      <th></th>\n",
       "      <th>speaker</th>\n",
       "      <th>personaID</th>\n",
       "      <th>utterance</th>\n",
       "      <th>summary</th>\n",
       "      <th>terminate</th>\n",
       "    </tr>\n",
       "  </thead>\n",
       "  <tbody>\n",
       "    <tr>\n",
       "      <th>5</th>\n",
       "      <td>speaker2</td>\n",
       "      <td>20979</td>\n",
       "      <td>맞아요 정말 홈쇼핑 쇼호스트들이 구매욕 자극하게 멘트를 하는 것 같아요</td>\n",
       "      <td></td>\n",
       "      <td>false</td>\n",
       "    </tr>\n",
       "    <tr>\n",
       "      <th>0</th>\n",
       "      <td>speaker1</td>\n",
       "      <td>51449</td>\n",
       "      <td>14시간 만이네요~잘 지내셨나요?</td>\n",
       "      <td></td>\n",
       "      <td>false</td>\n",
       "    </tr>\n",
       "    <tr>\n",
       "      <th>1</th>\n",
       "      <td>speaker2</td>\n",
       "      <td>32122</td>\n",
       "      <td>어제 일 열심히하고 푹 잤더니 몸이 한결 낫네요~! 요즘 제주도 날씨는 어떤가요??</td>\n",
       "      <td>나는 어제 푹 잤더니 몸이 한결 낫다.</td>\n",
       "      <td>false</td>\n",
       "    </tr>\n",
       "    <tr>\n",
       "      <th>2</th>\n",
       "      <td>speaker1</td>\n",
       "      <td>51449</td>\n",
       "      <td>좋아요~일교차가 있지만 볕이 좋아서 낮에 날씨가 너무 좋아요^^</td>\n",
       "      <td></td>\n",
       "      <td>false</td>\n",
       "    </tr>\n",
       "    <tr>\n",
       "      <th>3</th>\n",
       "      <td>speaker2</td>\n",
       "      <td>32122</td>\n",
       "      <td>아 다행이네요! 제주도도 안간지 오래되서 여행으로 가고 싶어요! 요즘도 여행객이 많...</td>\n",
       "      <td>나는 제주도로 여행 가고 싶다</td>\n",
       "      <td>false</td>\n",
       "    </tr>\n",
       "  </tbody>\n",
       "</table>\n",
       "</div>"
      ],
      "text/plain": [
       "    speaker personaID                                          utterance  \\\n",
       "5  speaker2     20979            맞아요 정말 홈쇼핑 쇼호스트들이 구매욕 자극하게 멘트를 하는 것 같아요   \n",
       "0  speaker1     51449                                 14시간 만이네요~잘 지내셨나요?   \n",
       "1  speaker2     32122     어제 일 열심히하고 푹 잤더니 몸이 한결 낫네요~! 요즘 제주도 날씨는 어떤가요??   \n",
       "2  speaker1     51449                좋아요~일교차가 있지만 볕이 좋아서 낮에 날씨가 너무 좋아요^^   \n",
       "3  speaker2     32122  아 다행이네요! 제주도도 안간지 오래되서 여행으로 가고 싶어요! 요즘도 여행객이 많...   \n",
       "\n",
       "                 summary terminate  \n",
       "5                            false  \n",
       "0                            false  \n",
       "1  나는 어제 푹 잤더니 몸이 한결 낫다.     false  \n",
       "2                            false  \n",
       "3      나는 제주도로 여행 가고 싶다      false  "
      ]
     },
     "execution_count": 25,
     "metadata": {},
     "output_type": "execute_result"
    }
   ],
   "source": [
    "df_test.tail()"
   ]
  },
  {
   "cell_type": "code",
   "execution_count": 26,
   "id": "92dd5e32",
   "metadata": {},
   "outputs": [
    {
     "data": {
      "text/plain": [
       "(4494, 5)"
      ]
     },
     "execution_count": 26,
     "metadata": {},
     "output_type": "execute_result"
    }
   ],
   "source": [
    "df_test.shape"
   ]
  },
  {
   "cell_type": "code",
   "execution_count": 27,
   "id": "7ee4e8f6",
   "metadata": {},
   "outputs": [
    {
     "name": "stdout",
     "output_type": "stream",
     "text": [
      "<class 'pandas.core.frame.DataFrame'>\n",
      "Int64Index: 4494 entries, 0 to 3\n",
      "Data columns (total 5 columns):\n",
      " #   Column     Non-Null Count  Dtype \n",
      "---  ------     --------------  ----- \n",
      " 0   speaker    4494 non-null   object\n",
      " 1   personaID  4494 non-null   object\n",
      " 2   utterance  4494 non-null   object\n",
      " 3   summary    4494 non-null   object\n",
      " 4   terminate  4494 non-null   object\n",
      "dtypes: object(5)\n",
      "memory usage: 210.7+ KB\n"
     ]
    }
   ],
   "source": [
    "df_test.info()"
   ]
  },
  {
   "cell_type": "markdown",
   "id": "9ed68fdf",
   "metadata": {},
   "source": [
    "# Save"
   ]
  },
  {
   "cell_type": "code",
   "execution_count": 28,
   "id": "583a6383",
   "metadata": {},
   "outputs": [],
   "source": [
    "df_train.to_json(config.train_data, orient=\"records\")"
   ]
  },
  {
   "cell_type": "code",
   "execution_count": 29,
   "id": "1db6b730",
   "metadata": {},
   "outputs": [],
   "source": [
    "df_val.to_json(config.val_data, orient=\"records\")"
   ]
  },
  {
   "cell_type": "code",
   "execution_count": 30,
   "id": "f72b6f33",
   "metadata": {},
   "outputs": [],
   "source": [
    "df_test.to_json(config.test_data, orient=\"records\")"
   ]
  }
 ],
 "metadata": {
  "kernelspec": {
   "display_name": "Python 3 (ipykernel)",
   "language": "python",
   "name": "python3"
  },
  "language_info": {
   "codemirror_mode": {
    "name": "ipython",
    "version": 3
   },
   "file_extension": ".py",
   "mimetype": "text/x-python",
   "name": "python",
   "nbconvert_exporter": "python",
   "pygments_lexer": "ipython3",
   "version": "3.8.15"
  }
 },
 "nbformat": 4,
 "nbformat_minor": 5
}
